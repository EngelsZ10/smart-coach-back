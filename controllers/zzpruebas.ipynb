{
 "cells": [
  {
   "cell_type": "code",
   "execution_count": 21,
   "metadata": {},
   "outputs": [
    {
     "data": {
      "text/plain": [
       "'230'"
      ]
     },
     "execution_count": 21,
     "metadata": {},
     "output_type": "execute_result"
    }
   ],
   "source": [
    "from ftplib import FTP\n",
    "ftp = FTP(\"ftp.smartcoach.top\")\n",
    "\n",
    "try:\n",
    "    r = ftp.login(f\"cuentaftp@smartcoach.top\", \"cuenta@ftp10\")\n",
    "except Exception as e:\n",
    "    r = e\n"
   ]
  },
  {
   "cell_type": "code",
   "execution_count": 61,
   "metadata": {},
   "outputs": [
    {
     "data": {
      "text/plain": [
       "{'warnings': None,\n",
       " 'status': 0,\n",
       " 'data': None,\n",
       " 'messages': None,\n",
       " 'errors': ['Usted no tiene una cuenta de correo electrónico llamada “cuenta@smartcoach.top”.'],\n",
       " 'metadata': {}}"
      ]
     },
     "execution_count": 61,
     "metadata": {},
     "output_type": "execute_result"
    }
   ],
   "source": [
    "import requests, json\n",
    "email = \"cuenta@smartcoach.top\"#request.args.get(\"email\")\n",
    "pas = \"cuenta@ftp10\" #request.args.get(\"pass\")\n",
    "response = requests.get(\n",
    "    f\"https://smartcoach.top:2083/execute/Email/verify_password?email={email}&password={pas}\",\n",
    "    headers={\"Authorization\": \"cpanel df3artco4sf:82D3MJ2G4DTK5G5FYAAPKW8XASRNOT6Z\"}\n",
    ")\n",
    "response.json()"
   ]
  },
  {
   "cell_type": "code",
   "execution_count": 73,
   "metadata": {},
   "outputs": [
    {
     "data": {
      "text/plain": [
       "{'metadata': {},\n",
       " 'data': None,\n",
       " 'errors': ['The password that you entered has a strength rating of “1”. You cannot use it because it is too weak and too easy to guess. Please enter a password with a strength rating of “65” or higher.'],\n",
       " 'warnings': None,\n",
       " 'messages': None,\n",
       " 'status': 0}"
      ]
     },
     "execution_count": 73,
     "metadata": {},
     "output_type": "execute_result"
    }
   ],
   "source": [
    "import requests\n",
    "equipos = [\n",
    "    'baby',\n",
    "    'falcons',\n",
    "    'flag',\n",
    "    'hornets',\n",
    "    'intermedia',\n",
    "    'irons',\n",
    "    'juvenil',\n",
    "    'master',\n",
    "    'ponys',\n",
    "    'rabbits',\n",
    "    'tauros',\n",
    "    'admin'\n",
    "]\n",
    "\n",
    "user = \"cuenta1\" #request.args.get(\"user\")\n",
    "pas = \"cuenta@\" #request.args.get(\"pass\")\n",
    "equipo = \"flag\".lower() #request.args.get(\"equipo\")\n",
    "isadmin = 1 #request.args.get(\"isadmin\")\n",
    "\n",
    "\n",
    "response = requests.get(\n",
    "    f\"https://back.smartcoach.top:2083/addUsuario\",\n",
    "    params= {\"user\": \"usuario\",\n",
    "            \"pass\": \"contraseña\",\n",
    "            \"equipo\": \"un equipo\"},\n",
    "    headers={\"Authorization\": \"cpanel df3artco4sf:82D3MJ2G4DTK5G5FYAAPKW8XASRNOT6Z\"}\n",
    ")\n",
    "\n",
    "response.json()"
   ]
  },
  {
   "cell_type": "code",
   "execution_count": 72,
   "metadata": {},
   "outputs": [
    {
     "ename": "JSONDecodeError",
     "evalue": "Invalid control character at: line 1 column 59 (char 58)",
     "output_type": "error",
     "traceback": [
      "\u001b[1;31m---------------------------------------------------------------------------\u001b[0m",
      "\u001b[1;31mJSONDecodeError\u001b[0m                           Traceback (most recent call last)",
      "File \u001b[1;32mc:\\Users\\Dell\\AppData\\Roaming\\pypoetry\\venv\\lib\\site-packages\\requests\\models.py:971\u001b[0m, in \u001b[0;36mResponse.json\u001b[1;34m(self, **kwargs)\u001b[0m\n\u001b[0;32m    970\u001b[0m \u001b[39mtry\u001b[39;00m:\n\u001b[1;32m--> 971\u001b[0m     \u001b[39mreturn\u001b[39;00m complexjson\u001b[39m.\u001b[39mloads(\u001b[39mself\u001b[39m\u001b[39m.\u001b[39mtext, \u001b[39m*\u001b[39m\u001b[39m*\u001b[39mkwargs)\n\u001b[0;32m    972\u001b[0m \u001b[39mexcept\u001b[39;00m JSONDecodeError \u001b[39mas\u001b[39;00m e:\n\u001b[0;32m    973\u001b[0m     \u001b[39m# Catch JSON-related errors and raise as requests.JSONDecodeError\u001b[39;00m\n\u001b[0;32m    974\u001b[0m     \u001b[39m# This aliases json.JSONDecodeError and simplejson.JSONDecodeError\u001b[39;00m\n",
      "File \u001b[1;32mc:\\Python39\\lib\\json\\__init__.py:346\u001b[0m, in \u001b[0;36mloads\u001b[1;34m(s, cls, object_hook, parse_float, parse_int, parse_constant, object_pairs_hook, **kw)\u001b[0m\n\u001b[0;32m    343\u001b[0m \u001b[39mif\u001b[39;00m (\u001b[39mcls\u001b[39m \u001b[39mis\u001b[39;00m \u001b[39mNone\u001b[39;00m \u001b[39mand\u001b[39;00m object_hook \u001b[39mis\u001b[39;00m \u001b[39mNone\u001b[39;00m \u001b[39mand\u001b[39;00m\n\u001b[0;32m    344\u001b[0m         parse_int \u001b[39mis\u001b[39;00m \u001b[39mNone\u001b[39;00m \u001b[39mand\u001b[39;00m parse_float \u001b[39mis\u001b[39;00m \u001b[39mNone\u001b[39;00m \u001b[39mand\u001b[39;00m\n\u001b[0;32m    345\u001b[0m         parse_constant \u001b[39mis\u001b[39;00m \u001b[39mNone\u001b[39;00m \u001b[39mand\u001b[39;00m object_pairs_hook \u001b[39mis\u001b[39;00m \u001b[39mNone\u001b[39;00m \u001b[39mand\u001b[39;00m \u001b[39mnot\u001b[39;00m kw):\n\u001b[1;32m--> 346\u001b[0m     \u001b[39mreturn\u001b[39;00m _default_decoder\u001b[39m.\u001b[39;49mdecode(s)\n\u001b[0;32m    347\u001b[0m \u001b[39mif\u001b[39;00m \u001b[39mcls\u001b[39m \u001b[39mis\u001b[39;00m \u001b[39mNone\u001b[39;00m:\n",
      "File \u001b[1;32mc:\\Python39\\lib\\json\\decoder.py:337\u001b[0m, in \u001b[0;36mJSONDecoder.decode\u001b[1;34m(self, s, _w)\u001b[0m\n\u001b[0;32m    333\u001b[0m \u001b[39m\u001b[39m\u001b[39m\"\"\"Return the Python representation of ``s`` (a ``str`` instance\u001b[39;00m\n\u001b[0;32m    334\u001b[0m \u001b[39mcontaining a JSON document).\u001b[39;00m\n\u001b[0;32m    335\u001b[0m \n\u001b[0;32m    336\u001b[0m \u001b[39m\"\"\"\u001b[39;00m\n\u001b[1;32m--> 337\u001b[0m obj, end \u001b[39m=\u001b[39m \u001b[39mself\u001b[39;49m\u001b[39m.\u001b[39;49mraw_decode(s, idx\u001b[39m=\u001b[39;49m_w(s, \u001b[39m0\u001b[39;49m)\u001b[39m.\u001b[39;49mend())\n\u001b[0;32m    338\u001b[0m end \u001b[39m=\u001b[39m _w(s, end)\u001b[39m.\u001b[39mend()\n",
      "File \u001b[1;32mc:\\Python39\\lib\\json\\decoder.py:353\u001b[0m, in \u001b[0;36mJSONDecoder.raw_decode\u001b[1;34m(self, s, idx)\u001b[0m\n\u001b[0;32m    352\u001b[0m \u001b[39mtry\u001b[39;00m:\n\u001b[1;32m--> 353\u001b[0m     obj, end \u001b[39m=\u001b[39m \u001b[39mself\u001b[39;49m\u001b[39m.\u001b[39;49mscan_once(s, idx)\n\u001b[0;32m    354\u001b[0m \u001b[39mexcept\u001b[39;00m \u001b[39mStopIteration\u001b[39;00m \u001b[39mas\u001b[39;00m err:\n",
      "\u001b[1;31mJSONDecodeError\u001b[0m: Invalid control character at: line 1 column 59 (char 58)",
      "\nDuring handling of the above exception, another exception occurred:\n",
      "\u001b[1;31mJSONDecodeError\u001b[0m                           Traceback (most recent call last)",
      "Cell \u001b[1;32mIn[72], line 6\u001b[0m\n\u001b[0;32m      1\u001b[0m r \u001b[39m=\u001b[39m requests\u001b[39m.\u001b[39mget(\n\u001b[0;32m      2\u001b[0m         \u001b[39mf\u001b[39m\u001b[39m\"\u001b[39m\u001b[39mhttps://smartcoach.top:2083/json-api/get_password_strength?api.version=2&password=pasd\u001b[39m\u001b[39m\"\u001b[39m,\n\u001b[0;32m      3\u001b[0m         headers\u001b[39m=\u001b[39m{\n\u001b[0;32m      4\u001b[0m             \u001b[39m\"\u001b[39m\u001b[39mAuthorization\u001b[39m\u001b[39m\"\u001b[39m: \u001b[39m\"\u001b[39m\u001b[39mcpanel df3artco4sf:82D3MJ2G4DTK5G5FYAAPKW8XASRNOT6Z\u001b[39m\u001b[39m\"\u001b[39m}\n\u001b[0;32m      5\u001b[0m     )\n\u001b[1;32m----> 6\u001b[0m r\u001b[39m.\u001b[39;49mjson()\n",
      "File \u001b[1;32mc:\\Users\\Dell\\AppData\\Roaming\\pypoetry\\venv\\lib\\site-packages\\requests\\models.py:975\u001b[0m, in \u001b[0;36mResponse.json\u001b[1;34m(self, **kwargs)\u001b[0m\n\u001b[0;32m    971\u001b[0m     \u001b[39mreturn\u001b[39;00m complexjson\u001b[39m.\u001b[39mloads(\u001b[39mself\u001b[39m\u001b[39m.\u001b[39mtext, \u001b[39m*\u001b[39m\u001b[39m*\u001b[39mkwargs)\n\u001b[0;32m    972\u001b[0m \u001b[39mexcept\u001b[39;00m JSONDecodeError \u001b[39mas\u001b[39;00m e:\n\u001b[0;32m    973\u001b[0m     \u001b[39m# Catch JSON-related errors and raise as requests.JSONDecodeError\u001b[39;00m\n\u001b[0;32m    974\u001b[0m     \u001b[39m# This aliases json.JSONDecodeError and simplejson.JSONDecodeError\u001b[39;00m\n\u001b[1;32m--> 975\u001b[0m     \u001b[39mraise\u001b[39;00m RequestsJSONDecodeError(e\u001b[39m.\u001b[39mmsg, e\u001b[39m.\u001b[39mdoc, e\u001b[39m.\u001b[39mpos)\n",
      "\u001b[1;31mJSONDecodeError\u001b[0m: Invalid control character at: line 1 column 59 (char 58)"
     ]
    }
   ],
   "source": [
    "r = requests.get(\n",
    "        f\"\n",
    "{ \"strength\": 100 }\",\n",
    "        headers={\n",
    "            \"Authorization\": \"cpanel df3artco4sf:82D3MJ2G4DTK5G5FYAAPKW8XASRNOT6Z\"}\n",
    "    )\n",
    "r.json()"
   ]
  },
  {
   "cell_type": "code",
   "execution_count": 76,
   "metadata": {},
   "outputs": [
    {
     "data": {
      "text/plain": [
       "6"
      ]
     },
     "execution_count": 76,
     "metadata": {},
     "output_type": "execute_result"
    }
   ],
   "source": [
    "import os\n",
    "os.system(\"curl -k df3artco4sf:82D3MJ2G4DTK5G5FYAAPKW8XASRNOT6Z -d 'password=z0mgUlTR$As3Cur3!!' https://smartcoach:2083/backend/passwordstrength.cgi\")"
   ]
  },
  {
   "cell_type": "code",
   "execution_count": 3,
   "metadata": {},
   "outputs": [
    {
     "data": {
      "text/plain": [
       "'asdasd@ASDA.asda.com'"
      ]
     },
     "execution_count": 3,
     "metadata": {},
     "output_type": "execute_result"
    }
   ],
   "source": [
    "equipo = \"ASDA\"\n",
    "t = \"asdasd@asda.com\".split(\"@\")\n",
    "t[0] + f\"@{equipo}.\" + t[1]"
   ]
  },
  {
   "cell_type": "code",
   "execution_count": 6,
   "metadata": {},
   "outputs": [
    {
     "ename": "RuntimeError",
     "evalue": "Working outside of application context.\n\nThis typically means that you attempted to use functionality that needed\nthe current application. To solve this, set up an application context\nwith app.app_context(). See the documentation for more information.",
     "output_type": "error",
     "traceback": [
      "\u001b[1;31m---------------------------------------------------------------------------\u001b[0m",
      "\u001b[1;31mRuntimeError\u001b[0m                              Traceback (most recent call last)",
      "Cell \u001b[1;32mIn[6], line 2\u001b[0m\n\u001b[0;32m      1\u001b[0m \u001b[39mfrom\u001b[39;00m \u001b[39mflask\u001b[39;00m \u001b[39mimport\u001b[39;00m jsonify\n\u001b[1;32m----> 2\u001b[0m jsonify({\u001b[39m\"\u001b[39;49m\u001b[39ma\u001b[39;49m\u001b[39m\"\u001b[39;49m:\u001b[39mbool\u001b[39;49m(\u001b[39m1\u001b[39;49m)})\n",
      "File \u001b[1;32mc:\\Users\\Dell\\AppData\\Roaming\\pypoetry\\venv\\lib\\site-packages\\flask\\json\\__init__.py:170\u001b[0m, in \u001b[0;36mjsonify\u001b[1;34m(*args, **kwargs)\u001b[0m\n\u001b[0;32m    138\u001b[0m \u001b[39mdef\u001b[39;00m \u001b[39mjsonify\u001b[39m(\u001b[39m*\u001b[39margs: t\u001b[39m.\u001b[39mAny, \u001b[39m*\u001b[39m\u001b[39m*\u001b[39mkwargs: t\u001b[39m.\u001b[39mAny) \u001b[39m-\u001b[39m\u001b[39m>\u001b[39m Response:\n\u001b[0;32m    139\u001b[0m \u001b[39m    \u001b[39m\u001b[39m\"\"\"Serialize the given arguments as JSON, and return a\u001b[39;00m\n\u001b[0;32m    140\u001b[0m \u001b[39m    :class:`~flask.Response` object with the ``application/json``\u001b[39;00m\n\u001b[0;32m    141\u001b[0m \u001b[39m    mimetype. A dict or list returned from a view will be converted to a\u001b[39;00m\n\u001b[1;32m   (...)\u001b[0m\n\u001b[0;32m    168\u001b[0m \u001b[39m    .. versionadded:: 0.2\u001b[39;00m\n\u001b[0;32m    169\u001b[0m \u001b[39m    \"\"\"\u001b[39;00m\n\u001b[1;32m--> 170\u001b[0m     \u001b[39mreturn\u001b[39;00m current_app\u001b[39m.\u001b[39;49mjson\u001b[39m.\u001b[39mresponse(\u001b[39m*\u001b[39margs, \u001b[39m*\u001b[39m\u001b[39m*\u001b[39mkwargs)\n",
      "File \u001b[1;32mc:\\Users\\Dell\\AppData\\Roaming\\pypoetry\\venv\\lib\\site-packages\\werkzeug\\local.py:311\u001b[0m, in \u001b[0;36m_ProxyLookup.__get__\u001b[1;34m(self, instance, owner)\u001b[0m\n\u001b[0;32m    308\u001b[0m     \u001b[39mreturn\u001b[39;00m \u001b[39mself\u001b[39m\n\u001b[0;32m    310\u001b[0m \u001b[39mtry\u001b[39;00m:\n\u001b[1;32m--> 311\u001b[0m     obj \u001b[39m=\u001b[39m instance\u001b[39m.\u001b[39;49m_get_current_object()\n\u001b[0;32m    312\u001b[0m \u001b[39mexcept\u001b[39;00m \u001b[39mRuntimeError\u001b[39;00m:\n\u001b[0;32m    313\u001b[0m     \u001b[39mif\u001b[39;00m \u001b[39mself\u001b[39m\u001b[39m.\u001b[39mfallback \u001b[39mis\u001b[39;00m \u001b[39mNone\u001b[39;00m:\n",
      "File \u001b[1;32mc:\\Users\\Dell\\AppData\\Roaming\\pypoetry\\venv\\lib\\site-packages\\werkzeug\\local.py:508\u001b[0m, in \u001b[0;36mLocalProxy.__init__.<locals>._get_current_object\u001b[1;34m()\u001b[0m\n\u001b[0;32m    506\u001b[0m     obj \u001b[39m=\u001b[39m local\u001b[39m.\u001b[39mget()  \u001b[39m# type: ignore[union-attr]\u001b[39;00m\n\u001b[0;32m    507\u001b[0m \u001b[39mexcept\u001b[39;00m \u001b[39mLookupError\u001b[39;00m:\n\u001b[1;32m--> 508\u001b[0m     \u001b[39mraise\u001b[39;00m \u001b[39mRuntimeError\u001b[39;00m(unbound_message) \u001b[39mfrom\u001b[39;00m \u001b[39mNone\u001b[39;00m\n\u001b[0;32m    510\u001b[0m \u001b[39mreturn\u001b[39;00m get_name(obj)\n",
      "\u001b[1;31mRuntimeError\u001b[0m: Working outside of application context.\n\nThis typically means that you attempted to use functionality that needed\nthe current application. To solve this, set up an application context\nwith app.app_context(). See the documentation for more information."
     ]
    }
   ],
   "source": [
    "from flask import jsonify\n",
    "jsonify({\"a\":bool(1)})"
   ]
  },
  {
   "cell_type": "code",
   "execution_count": 8,
   "metadata": {},
   "outputs": [
    {
     "name": "stdout",
     "output_type": "stream",
     "text": [
      "Collecting pillow\n",
      "  Downloading Pillow-10.0.0-cp39-cp39-win_amd64.whl (2.5 MB)\n",
      "     ---------------------------------------- 2.5/2.5 MB 3.5 MB/s eta 0:00:00\n",
      "Installing collected packages: pillow\n",
      "Successfully installed pillow-10.0.0\n"
     ]
    },
    {
     "name": "stderr",
     "output_type": "stream",
     "text": [
      "\n",
      "[notice] A new release of pip available: 22.2.2 -> 23.2.1\n",
      "[notice] To update, run: python.exe -m pip install --upgrade pip\n"
     ]
    }
   ],
   "source": [
    "!pip install pillow"
   ]
  },
  {
   "cell_type": "code",
   "execution_count": 18,
   "metadata": {},
   "outputs": [
    {
     "name": "stderr",
     "output_type": "stream",
     "text": [
      "c:\\Users\\Dell\\AppData\\Roaming\\pypoetry\\venv\\lib\\site-packages\\urllib3\\connectionpool.py:1045: InsecureRequestWarning: Unverified HTTPS request is being made to host 'ftp.smartcoach.top'. Adding certificate verification is strongly advised. See: https://urllib3.readthedocs.io/en/1.26.x/advanced-usage.html#ssl-warnings\n",
      "  warnings.warn(\n"
     ]
    },
    {
     "name": "stdout",
     "output_type": "stream",
     "text": [
      "['asda']\n"
     ]
    }
   ],
   "source": [
    "import requests\n",
    "import mimetypes\n",
    "\n",
    "url = 'https://ftp.smartcoach.top:2083/execute/Fileman/list_files'\n",
    "token= \"cpanel df3artco4sf:82D3MJ2G4DTK5G5FYAAPKW8XASRNOT6Z\"\n",
    "\n",
    "# Configuración de los parámetros\n",
    "\n",
    "params = {\n",
    "    'dir': \"/datos/Baby/Acondicionamiento Físico\",\n",
    "}\n",
    "\n",
    "# Configuración de la cabecera de autenticación\n",
    "headers = {\n",
    "    'Authorization': f'{token}',\n",
    "}\n",
    "\n",
    "response = requests.get(url, params=params, headers=headers, verify=False)\n",
    "\n",
    "    # Procesar la respuesta JSON\n",
    "if response.status_code == 200:\n",
    "    info_video = response.json()\n",
    "    datos = info_video[\"data\"]\n",
    "    nombres_archivos = []\n",
    "    \n",
    "    for archivo in datos:\n",
    "        if archivo[\"type\"] != 'file':\n",
    "            continue\n",
    "        if not mimetypes.guess_type(archivo[\"file\"])[0].startswith('video'):\n",
    "            continue\n",
    "        nombres_archivos.append(\"\".join(archivo[\"file\"].split(\".\")[:-1]))\n",
    "        \n",
    "    print(nombres_archivos)\n",
    "    \n",
    "else:\n",
    "   print(f\"[!] Error: {response.status_code} {response.reason} returned.\")"
   ]
  },
  {
   "cell_type": "code",
   "execution_count": 4,
   "metadata": {},
   "outputs": [
    {
     "name": "stdout",
     "output_type": "stream",
     "text": [
      "drwxr-xr-x    3 df3artco4s df3artco4s       4096 Jul 31 09:20 .\n",
      "drwxr-xr-x   11 df3artco4s df3artco4s       4096 Jul 30 19:17 ..\n",
      "-rw-r--r--    1 df3artco4s df3artco4s   14563243 Jul 31 09:20 asda.mp4\n",
      "drwxr--r--    2 df3artco4s df3artco4s       4096 Jul 30 19:17 thumbnails\n"
     ]
    },
    {
     "data": {
      "text/plain": [
       "'226-Options: -a -l \\n226 4 matches total'"
      ]
     },
     "execution_count": 4,
     "metadata": {},
     "output_type": "execute_result"
    }
   ],
   "source": [
    "import ftplib\n",
    "A = \"asda.mp4\"\n",
    "\n",
    "ftp = ftplib.FTP(\"ftp.smartcoach.top\", \"df3artco4sf\", \"9de6AGnZ0!k*9Tus\")\n",
    "ftp.cwd(\"/datos/Baby/Acondicionamiento Físico\")\n",
    "\n",
    "ftp.retrlines('LIST') "
   ]
  },
  {
   "cell_type": "code",
   "execution_count": 2,
   "metadata": {},
   "outputs": [
    {
     "data": {
      "text/plain": [
       "True"
      ]
     },
     "execution_count": 2,
     "metadata": {},
     "output_type": "execute_result"
    }
   ],
   "source": [
    "from os import path\n",
    "path. exists(\"../../datos/\") "
   ]
  },
  {
   "cell_type": "code",
   "execution_count": 1,
   "metadata": {},
   "outputs": [
    {
     "ename": "FileNotFoundError",
     "evalue": "[Errno 2] No such file or directory: 'asda.mp4'",
     "output_type": "error",
     "traceback": [
      "\u001b[1;31m---------------------------------------------------------------------------\u001b[0m",
      "\u001b[1;31mFileNotFoundError\u001b[0m                         Traceback (most recent call last)",
      "Cell \u001b[1;32mIn[1], line 2\u001b[0m\n\u001b[0;32m      1\u001b[0m A \u001b[39m=\u001b[39m \u001b[39m\"\u001b[39m\u001b[39masda.mp4\u001b[39m\u001b[39m\"\u001b[39m\n\u001b[1;32m----> 2\u001b[0m \u001b[39mwith\u001b[39;00m \u001b[39mopen\u001b[39;49m(A, \u001b[39m\"\u001b[39;49m\u001b[39mrb\u001b[39;49m\u001b[39m\"\u001b[39;49m) \u001b[39mas\u001b[39;00m file:\n\u001b[0;32m      3\u001b[0m     b \u001b[39m=\u001b[39m \u001b[39mbytearray\u001b[39m(file\u001b[39m.\u001b[39mread())\n",
      "File \u001b[1;32mc:\\Users\\Dell\\AppData\\Roaming\\pypoetry\\venv\\lib\\site-packages\\IPython\\core\\interactiveshell.py:284\u001b[0m, in \u001b[0;36m_modified_open\u001b[1;34m(file, *args, **kwargs)\u001b[0m\n\u001b[0;32m    277\u001b[0m \u001b[39mif\u001b[39;00m file \u001b[39min\u001b[39;00m {\u001b[39m0\u001b[39m, \u001b[39m1\u001b[39m, \u001b[39m2\u001b[39m}:\n\u001b[0;32m    278\u001b[0m     \u001b[39mraise\u001b[39;00m \u001b[39mValueError\u001b[39;00m(\n\u001b[0;32m    279\u001b[0m         \u001b[39mf\u001b[39m\u001b[39m\"\u001b[39m\u001b[39mIPython won\u001b[39m\u001b[39m'\u001b[39m\u001b[39mt let you open fd=\u001b[39m\u001b[39m{\u001b[39;00mfile\u001b[39m}\u001b[39;00m\u001b[39m by default \u001b[39m\u001b[39m\"\u001b[39m\n\u001b[0;32m    280\u001b[0m         \u001b[39m\"\u001b[39m\u001b[39mas it is likely to crash IPython. If you know what you are doing, \u001b[39m\u001b[39m\"\u001b[39m\n\u001b[0;32m    281\u001b[0m         \u001b[39m\"\u001b[39m\u001b[39myou can use builtins\u001b[39m\u001b[39m'\u001b[39m\u001b[39m open.\u001b[39m\u001b[39m\"\u001b[39m\n\u001b[0;32m    282\u001b[0m     )\n\u001b[1;32m--> 284\u001b[0m \u001b[39mreturn\u001b[39;00m io_open(file, \u001b[39m*\u001b[39margs, \u001b[39m*\u001b[39m\u001b[39m*\u001b[39mkwargs)\n",
      "\u001b[1;31mFileNotFoundError\u001b[0m: [Errno 2] No such file or directory: 'asda.mp4'"
     ]
    }
   ],
   "source": [
    "A = \"asda.mp4\"\n",
    "with open(A, \"rb\") as file:\n",
    "    b = bytearray(file.read())"
   ]
  },
  {
   "cell_type": "code",
   "execution_count": 1,
   "metadata": {},
   "outputs": [],
   "source": [
    "from moviepy.video.io.VideoFileClip import VideoFileClip\n",
    "from PIL import Image\n",
    "\n",
    "#plt.savefig('', bbox_inches='tight')\n",
    "def create_thumbnail(video_path, thumbnail_path, time_in_seconds=0):\n",
    "    try:\n",
    "        clip = VideoFileClip(video_path)\n",
    "        thumbnail = clip.get_frame(time_in_seconds)\n",
    "        img = Image.fromarray(thumbnail)\n",
    "        img.save(thumbnail_path)\n",
    "        print(\"Thumbnail created successfully.\")\n",
    "    except Exception as e:\n",
    "        print(f\"Error creating thumbnail: {e}\")"
   ]
  },
  {
   "cell_type": "code",
   "execution_count": 2,
   "metadata": {},
   "outputs": [
    {
     "name": "stdout",
     "output_type": "stream",
     "text": [
      "Thumbnail created successfully.\n"
     ]
    }
   ],
   "source": [
    "create_thumbnail(\"asda.mp4\",\"asda.jpg\")"
   ]
  },
  {
   "cell_type": "code",
   "execution_count": 8,
   "metadata": {},
   "outputs": [
    {
     "data": {
      "text/plain": [
       "'../datos/Flag/asda'"
      ]
     },
     "execution_count": 8,
     "metadata": {},
     "output_type": "execute_result"
    }
   ],
   "source": [
    "from os.path import splitext\n",
    "\n",
    "splitext(\"../datos/Flag/asda.jpg\")[0]"
   ]
  },
  {
   "cell_type": "code",
   "execution_count": 11,
   "metadata": {},
   "outputs": [
    {
     "ename": "TypeError",
     "evalue": "get() missing 1 required positional argument: 'url'",
     "output_type": "error",
     "traceback": [
      "\u001b[1;31m---------------------------------------------------------------------------\u001b[0m",
      "\u001b[1;31mTypeError\u001b[0m                                 Traceback (most recent call last)",
      "Cell \u001b[1;32mIn[11], line 2\u001b[0m\n\u001b[0;32m      1\u001b[0m \u001b[39mimport\u001b[39;00m \u001b[39mrequests\u001b[39;00m\n\u001b[1;32m----> 2\u001b[0m requests\u001b[39m.\u001b[39;49mget()\n",
      "\u001b[1;31mTypeError\u001b[0m: get() missing 1 required positional argument: 'url'"
     ]
    }
   ],
   "source": [
    "import request"
   ]
  },
  {
   "cell_type": "code",
   "execution_count": 10,
   "metadata": {},
   "outputs": [
    {
     "name": "stdout",
     "output_type": "stream",
     "text": [
      "Requirement already satisfied: requests in c:\\users\\dell\\appdata\\roaming\\pypoetry\\venv\\lib\\site-packages (2.28.1)\n",
      "Requirement already satisfied: idna<4,>=2.5 in c:\\users\\dell\\appdata\\roaming\\pypoetry\\venv\\lib\\site-packages (from requests) (3.4)\n",
      "Requirement already satisfied: urllib3<1.27,>=1.21.1 in c:\\users\\dell\\appdata\\roaming\\pypoetry\\venv\\lib\\site-packages (from requests) (1.26.12)\n",
      "Requirement already satisfied: charset-normalizer<3,>=2 in c:\\users\\dell\\appdata\\roaming\\pypoetry\\venv\\lib\\site-packages (from requests) (2.1.1)\n",
      "Requirement already satisfied: certifi>=2017.4.17 in c:\\users\\dell\\appdata\\roaming\\pypoetry\\venv\\lib\\site-packages (from requests) (2022.9.24)\n"
     ]
    },
    {
     "name": "stderr",
     "output_type": "stream",
     "text": [
      "\n",
      "[notice] A new release of pip available: 22.2.2 -> 23.2.1\n",
      "[notice] To update, run: python.exe -m pip install --upgrade pip\n"
     ]
    }
   ],
   "source": [
    "!pip install requests"
   ]
  },
  {
   "cell_type": "code",
   "execution_count": null,
   "metadata": {},
   "outputs": [],
   "source": []
  }
 ],
 "metadata": {
  "kernelspec": {
   "display_name": "Python 3",
   "language": "python",
   "name": "python3"
  },
  "language_info": {
   "codemirror_mode": {
    "name": "ipython",
    "version": 3
   },
   "file_extension": ".py",
   "mimetype": "text/x-python",
   "name": "python",
   "nbconvert_exporter": "python",
   "pygments_lexer": "ipython3",
   "version": "3.9.12"
  },
  "orig_nbformat": 4
 },
 "nbformat": 4,
 "nbformat_minor": 2
}
